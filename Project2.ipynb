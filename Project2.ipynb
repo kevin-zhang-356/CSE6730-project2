{
 "cells": [
  {
   "cell_type": "code",
   "execution_count": 3,
   "metadata": {},
   "outputs": [],
   "source": [
    "import math\n",
    "import random\n",
    "import csv\n",
    "import numpy\n",
    "import matplotlib.pyplot as plt\n",
    "import seaborn as sns"
   ]
  },
  {
   "cell_type": "code",
   "execution_count": 4,
   "metadata": {},
   "outputs": [],
   "source": [
    "def create_grid(row, col, deg1):\n",
    "\tgrid = []\n",
    "\tcsvFile = open(\"ATL_weather.csv\", \"r\")\n",
    "\treader = csv.reader(csvFile)\n",
    "\ttemp_min = 10000\n",
    "\ttemp_max = -10000\n",
    "\thumd_min = 10000\n",
    "\thumd_max = -10000\n",
    "\twinSp_min = 10000\n",
    "\twinSp_max = -10000\n",
    "\talt_min = 10000\n",
    "\talt_max = -10000\n",
    "\tfor item in reader:\n",
    "\t\tif reader.line_num == 1:\n",
    "\t\t\tcontinue\n",
    "\t\ttemp = float(item[1])\n",
    "\t\thumd = float(item[2])\n",
    "\t\twinSp = float(item[3])\n",
    "\t\tdeg = float(item[4])\n",
    "\t\talt = float(item[5])\n",
    "\t\tif temp < temp_min:\n",
    "\t\t\ttemp_min = temp\n",
    "\t\tif temp > temp_max:\n",
    "\t\t\ttemp_max = temp\n",
    "\t\tif humd < humd_min:\n",
    "\t\t\thumd_min = humd\n",
    "\t\tif humd > humd_max:\n",
    "\t\t\thumd_max = humd\n",
    "\t\tif winSp < winSp_min:\n",
    "\t\t\twinSp_min = winSp\n",
    "\t\tif winSp > winSp_max:\n",
    "\t\t\twinSp_max = winSp\n",
    "\t\tif alt < alt_min:\n",
    "\t\t\talt_min = alt\n",
    "\t\tif alt > alt_max:\n",
    "\t\t\talt_max = alt\n",
    "\t\tif deg1 is -1:\n",
    "\t\t\tdeg = deg\n",
    "\t\telif deg1 is -2:\n",
    "\t\t\twinSp = 0\n",
    "\t\telse:\n",
    "\t\t\tdeg = deg1         \n",
    "\t\tattribute = {'Con': 2, 'Temp':temp, 'Humd':humd, 'WinSp':winSp, 'Alt':alt, 'ki':0, 'Degree':deg}\n",
    "\t\tgrid.append(attribute)\n",
    "\tfor item in grid:\n",
    "\t\titem['Temp'] = item['Temp'] / temp_max\n",
    "\t\titem['Humd'] = item['Humd'] / humd_max\n",
    "\t\titem['WinSp'] = item['WinSp'] / winSp_max\n",
    "\t\titem['Alt'] = item['Alt'] / alt_max\n",
    "\tgrid[33]['ki'] = 8\n",
    "\t# grid[44]['ki'] = 8\n",
    "\t# grid[99]['ki'] = 8\n",
    "\treturn grid"
   ]
  },
  {
   "cell_type": "code",
   "execution_count": 5,
   "metadata": {},
   "outputs": [],
   "source": [
    "def update(grid, iteration, row, col):\n",
    "\tfor k in range(iteration):\n",
    "\t\tfor i in range(len(grid)):\n",
    "\t\t\t# 1.generation\n",
    "\t\t\tgeneration(grid, i)\n",
    "\t\t\t# 2.difussion\n",
    "\t\t\tdifussion(grid, i, row, col)\n",
    "\t\t\tdilution(grid, i)\n",
    "\t\t\tdeposition(grid, i)\n",
    "\t\t\t# state \n",
    "\t\t\n",
    "\n",
    "# def print_grid(grid, row, col):\n",
    "# \tfor i in range(row):\n",
    "# \t\tfor j in range(col):\n",
    "# \t\t\tprint(str(round(grid[i * col + j]['Con'], 4)) + '\\t', end='')\n",
    "# \t\tprint('')\n",
    "\n",
    "def generation(grid, i):\n",
    "\tattribute = grid[i]\n",
    "\tgrid[i]['Con'] = attribute['Con'] + attribute['ki'] * (attribute['Temp'] * attribute['Humd'])\n",
    "\n",
    "def difussion(grid, i, row, col):\n",
    "\tspeedi = 0.15\n",
    "\talt = grid[i]['Alt']\n",
    "\ttemp = grid[i]['Temp']\n",
    "\tdeg = grid[i]['Degree']\n",
    "\t# up\n",
    "\tif i - col >= 0:\n",
    "\t\tdiff = (grid[i]['Con'] - grid[i - col]['Con']) * (alt * temp * 0.05)\n",
    "\t\tgrid[i]['Con'] = grid[i]['Con'] - diff\n",
    "\t\tgrid[i - col]['Con'] = grid[i - col]['Con'] + diff\n",
    "\t\tif math.sin(math.radians(deg - 90)) > 0:\n",
    "\t\t\tcarry = grid[i]['Con'] * grid[i]['WinSp'] * math.sin(math.radians(deg - 90)) * speedi\n",
    "\t\t\tgrid[i]['Con'] = grid[i]['Con'] - carry\n",
    "\t\t\tgrid[i - col]['Con'] = grid[i - col]['Con'] + carry\n",
    "\t\telse:\n",
    "\t\t\tcarry = grid[i - col]['Con'] * grid[i - col]['WinSp'] * math.sin(math.radians(deg - 90)) * speedi\n",
    "\t\t\tgrid[i]['Con'] = grid[i]['Con'] - carry\n",
    "\t\t\tgrid[i - col]['Con'] = grid[i - col]['Con'] + carry\n",
    "\t#down\n",
    "\tif i + col < col * row:\n",
    "\t\tdiff = (grid[i]['Con'] - grid[i + col]['Con']) * (alt * temp * 0.05)\n",
    "\t\tgrid[i]['Con'] = grid[i]['Con'] - diff\n",
    "\t\tgrid[i + col]['Con'] = grid[i + col]['Con'] + diff\n",
    "\t\tif math.sin(math.radians(deg + 90)) > 0:\n",
    "\t\t\tcarry = grid[i]['Con'] * grid[i]['WinSp'] * math.sin(math.radians(deg + 90)) * speedi\n",
    "\t\t\tgrid[i]['Con'] = grid[i]['Con'] - carry\n",
    "\t\t\tgrid[i + col]['Con'] = grid[i + col]['Con'] + carry\n",
    "\t\telse:\n",
    "\t\t\tcarry = grid[i + col]['Con'] * grid[i + col]['WinSp'] * math.sin(math.radians(deg + 90)) * speedi\n",
    "\t\t\tgrid[i]['Con'] = grid[i]['Con'] - carry\n",
    "\t\t\tgrid[i + col]['Con'] = grid[i + col]['Con'] + carry\n",
    "\n",
    "\t#left\n",
    "\tif i % col != 0:\n",
    "\t\tdiff = (grid[i]['Con'] - grid[i - 1]['Con']) * (alt * temp * 0.05)\n",
    "\t\tgrid[i]['Con'] = grid[i]['Con'] - diff\n",
    "\t\tgrid[i - 1]['Con'] = grid[i - 1]['Con'] + diff\n",
    "\t\tif math.sin(math.radians(deg)) > 0:\n",
    "\t\t\tcarry = grid[i]['Con'] * grid[i]['WinSp'] * math.sin(math.radians(deg)) * speedi\n",
    "\t\t\tgrid[i]['Con'] = grid[i]['Con'] - carry\n",
    "\t\t\tgrid[i - 1]['Con'] = grid[i - 1]['Con'] + carry\n",
    "\t\telse:\n",
    "\t\t\tcarry = grid[i - 1]['Con'] * grid[i - 1]['WinSp'] * math.sin(math.radians(deg)) * speedi\n",
    "\t\t\tgrid[i]['Con'] = grid[i]['Con'] - carry\n",
    "\t\t\tgrid[i - 1]['Con'] = grid[i - 1]['Con'] + carry\n",
    "\t\t\n",
    "\t\t#left up\n",
    "\t\tif i - col >= 0:\n",
    "\t\t\tdiff = (grid[i]['Con'] - grid[i - col -1]['Con']) * (alt * temp * 0.05)\n",
    "\t\t\tgrid[i]['Con'] = grid[i]['Con'] - diff\n",
    "\t\t\tgrid[i - col - 1]['Con'] = grid[i - col - 1]['Con'] + diff\n",
    "\t\t\tif math.sin(math.radians(deg - 45)) > 0:\n",
    "\t\t\t\tcarry = grid[i]['Con'] * grid[i]['WinSp'] * math.sin(math.radians(deg - 45)) * speedi\n",
    "\t\t\t\tgrid[i]['Con'] = grid[i]['Con'] - carry\n",
    "\t\t\t\tgrid[i - col - 1]['Con'] = grid[i - col - 1]['Con'] + carry\n",
    "\t\t\telse:\n",
    "\t\t\t\tcarry = grid[i - col - 1]['Con'] * grid[i - col - 1]['WinSp'] * math.sin(math.radians(deg - 45)) * speedi\n",
    "\t\t\t\tgrid[i]['Con'] = grid[i]['Con'] - carry\n",
    "\t\t\t\tgrid[i - col - 1]['Con'] = grid[i - col - 1]['Con'] + carry\n",
    "\t\t\n",
    "\t\t#left down\n",
    "\t\tif i + col < col * row:\n",
    "\t\t\tdiff = (grid[i]['Con'] - grid[i + col -1]['Con']) * (alt * temp * 0.05)\n",
    "\t\t\tgrid[i]['Con'] = grid[i]['Con'] - diff\n",
    "\t\t\tgrid[i + col - 1]['Con'] = grid[i + col - 1]['Con'] + diff\n",
    "\t\t\tif math.sin(math.radians(deg + 45)) > 0:\n",
    "\t\t\t\tcarry = grid[i]['Con'] * grid[i]['WinSp'] * math.sin(math.radians(deg + 45)) * speedi\n",
    "\t\t\t\tgrid[i]['Con'] = grid[i]['Con'] - carry\n",
    "\t\t\t\tgrid[i + col - 1]['Con'] = grid[i + col - 1]['Con'] + carry\n",
    "\t\t\telse:\n",
    "\t\t\t\tcarry = grid[i + col - 1]['Con'] * grid[i + col - 1]['WinSp'] * math.sin(math.radians(deg + 45)) * speedi\n",
    "\t\t\t\tgrid[i]['Con'] = grid[i]['Con'] - carry\n",
    "\t\t\t\tgrid[i + col - 1]['Con'] = grid[i + col - 1]['Con'] + carry\n",
    "\t\n",
    "\t#right\n",
    "\tif (i + 1) % col != 0:\n",
    "\t\tdiff = (grid[i]['Con'] - grid[i + 1]['Con']) * (alt * temp * 0.05)\n",
    "\t\tgrid[i]['Con'] = grid[i]['Con'] - diff\n",
    "\t\tgrid[i + 1]['Con'] = grid[i + 1]['Con'] + diff\n",
    "\t\tif math.sin(math.radians(deg + 180)) > 0:\n",
    "\t\t\tcarry = grid[i]['Con'] * grid[i]['WinSp'] * math.sin(math.radians(deg + 180)) * speedi\n",
    "\t\t\tgrid[i]['Con'] = grid[i]['Con'] - carry\n",
    "\t\t\tgrid[i + 1 ]['Con'] = grid[i + 1]['Con'] + carry\n",
    "\t\telse:\n",
    "\t\t\tcarry = grid[i + 1]['Con'] * grid[i + 1]['WinSp'] * math.sin(math.radians(deg + 180)) * speedi\n",
    "\t\t\tgrid[i]['Con'] = grid[i]['Con'] - carry\n",
    "\t\t\tgrid[i + 1]['Con'] = grid[i + 1]['Con'] + carry\n",
    "\t\t\n",
    "\t\t#right up\n",
    "\t\tif i - col >= 0:\n",
    "\t\t\tdiff = (grid[i]['Con'] - grid[i - col + 1]['Con']) * (alt * temp * 0.05)\n",
    "\t\t\tgrid[i]['Con'] = grid[i]['Con'] - diff\n",
    "\t\t\tgrid[i - col + 1]['Con'] = grid[i - col + 1]['Con'] + diff\n",
    "\t\t\tif math.sin(math.radians(deg - 135)) > 0:\n",
    "\t\t\t\tcarry = grid[i]['Con'] * grid[i]['WinSp'] * math.sin(math.radians(deg - 135)) * speedi\n",
    "\t\t\t\tgrid[i]['Con'] = grid[i]['Con'] - carry\n",
    "\t\t\t\tgrid[i - col + 1]['Con'] = grid[i - col + 1]['Con'] + carry\n",
    "\t\t\telse:\n",
    "\t\t\t\tcarry = grid[i - col + 1]['Con'] * grid[i - col + 1]['WinSp'] * math.sin(math.radians(deg - 135)) * speedi\n",
    "\t\t\t\tgrid[i]['Con'] = grid[i]['Con'] - carry\n",
    "\t\t\t\tgrid[i - col + 1]['Con'] = grid[i - col + 1]['Con'] + carry\n",
    "\t\t\n",
    "\t\t#right down\n",
    "\t\tif i + col < col * row:\n",
    "\t\t\tdiff = (grid[i]['Con'] - grid[i + col + 1]['Con']) * (alt * temp * 0.05)\n",
    "\t\t\tgrid[i]['Con'] = grid[i]['Con'] - diff\n",
    "\t\t\tgrid[i + col + 1]['Con'] = grid[i + col + 1]['Con'] + diff\n",
    "\t\t\tif math.sin(math.radians(deg + 135)) > 0:\n",
    "\t\t\t\tcarry = grid[i]['Con'] * grid[i]['WinSp'] * math.sin(math.radians(deg + 135)) * speedi\n",
    "\t\t\t\tgrid[i]['Con'] = grid[i]['Con'] - carry\n",
    "\t\t\t\tgrid[i + col + 1]['Con'] = grid[i + col + 1]['Con'] + carry\n",
    "\t\t\telse:\n",
    "\t\t\t\tcarry = grid[i + col + 1]['Con'] * grid[i + col + 1]['WinSp'] * math.sin(math.radians(deg + 135)) * speedi\n",
    "\t\t\t\tgrid[i]['Con'] = grid[i]['Con'] - carry\n",
    "\t\t\t\tgrid[i + col + 1]['Con'] = grid[i + col + 1]['Con'] + carry\n",
    "\n",
    "def dilution(grid, i):\n",
    "\tgrid[i]['Con'] = grid[i]['Con'] * (1 - 0.1 * grid[i]['Temp'] * grid[i]['WinSp'])\n",
    "\n",
    "def deposition(grid, i):\n",
    "\t#precipitation\n",
    "\tgrid[i]['Con'] = grid[i]['Con'] * (1 - 0.01)\n",
    "\t#green belt adsorbtion\n",
    "\t# grid[i]['Con'] = grid[i]['Con'] - 0.002 * random.randint(0,10)\n",
    "\n",
    "def plot(grid, row, col):\n",
    "\tsns.set()\n",
    "\tuniform_data = numpy.zeros((row, col))\n",
    "\t#uniform_data1 = numpy.reshape(row, col)\n",
    "\tindex = 0\n",
    "\tfor i in range(row):\n",
    "\t\tfor j in range(col):\n",
    "\t\t\tuniform_data[i][j] = grid[index]['Con']\n",
    "\t\t\tindex = index + 1\n",
    "\t# print (uniform_data)\n",
    "\t#uniform_data = numpy.random.rand(10, 12)\n",
    "\tax = sns.heatmap(uniform_data, fmt=\"d\",cmap='YlGnBu')\n",
    "\n",
    "\t#ax = sns.heatmap(uniform_data)\n",
    "\tplt.show() "
   ]
  },
  {
   "cell_type": "code",
   "execution_count": 6,
   "metadata": {},
   "outputs": [],
   "source": [
    "map = create_grid(14,14, -1)"
   ]
  },
  {
   "cell_type": "code",
   "execution_count": 7,
   "metadata": {},
   "outputs": [],
   "source": [
    "update(map, 100, 14, 14)"
   ]
  },
  {
   "cell_type": "code",
   "execution_count": 8,
   "metadata": {},
   "outputs": [],
   "source": [
    "#print_grid(map, 14, 14)"
   ]
  },
  {
   "cell_type": "code",
   "execution_count": 9,
   "metadata": {},
   "outputs": [
    {
     "data": {
      "image/png": "[encoded data removed]",
      "text/plain": [
       "<Figure size 432x288 with 2 Axes>"
      ]
     },
     "metadata": {},
     "output_type": "display_data"
    }
   ],
   "source": [
    "plot(map, 14, 14)"
   ]
  },
  {
   "cell_type": "code",
   "execution_count": 10,
   "metadata": {},
   "outputs": [
    {
     "data": {
      "image/png": "[encoded data removed]",
      "text/plain": [
       "<Figure size 432x288 with 2 Axes>"
      ]
     },
     "metadata": {},
     "output_type": "display_data"
    }
   ],
   "source": [
    "map = create_grid(14,14,-2)\n",
    "update(map, 100, 14, 14)\n",
    "#print_grid(map, 14, 14)\n",
    "plot(map, 14, 14)"
   ]
  },
  {
   "cell_type": "code",
   "execution_count": 11,
   "metadata": {},
   "outputs": [
    {
     "data": {
      "image/png": "[encoded data removed]",
      "text/plain": [
       "<Figure size 432x288 with 2 Axes>"
      ]
     },
     "metadata": {},
     "output_type": "display_data"
    }
   ],
   "source": [
    "map = create_grid(14,14,315)\n",
    "update(map, 100, 14, 14)\n",
    "#print_grid(map, 14, 14)\n",
    "plot(map, 14, 14)"
   ]
  },
  {
   "cell_type": "code",
   "execution_count": null,
   "metadata": {},
   "outputs": [],
   "source": []
  },
  {
   "cell_type": "code",
   "execution_count": null,
   "metadata": {},
   "outputs": [],
   "source": []
  },
  {
   "cell_type": "code",
   "execution_count": null,
   "metadata": {},
   "outputs": [],
   "source": []
  }
 ],
 "metadata": {
  "kernelspec": {
   "display_name": "Python 3",
   "language": "python",
   "name": "python3"
  },
  "language_info": {
   "codemirror_mode": {
    "name": "ipython",
    "version": 3
   },
   "file_extension": ".py",
   "mimetype": "text/x-python",
   "name": "python",
   "nbconvert_exporter": "python",
   "pygments_lexer": "ipython3",
   "version": "3.7.6"
  }
 },
 "nbformat": 4,
 "nbformat_minor": 4
}
